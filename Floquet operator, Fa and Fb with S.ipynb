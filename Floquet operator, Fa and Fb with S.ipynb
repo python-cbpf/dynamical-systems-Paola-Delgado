{
 "cells": [
  {
   "cell_type": "code",
   "execution_count": 67,
   "metadata": {},
   "outputs": [],
   "source": [
    "import numpy as np\n",
    "import math\n",
    "import matplotlib.pyplot as plt\n",
    "from mpl_toolkits.mplot3d import Axes3D \n",
    "import cmath \n",
    "from scipy.sparse import csc_matrix\n",
    "from scipy.sparse.linalg import expm\n",
    "from numpy import linalg as LA\n",
    "import matplotlib.pyplot as plt\n",
    "from scipy.stats import unitary_group\n",
    "import random\n",
    "import pylab"
   ]
  },
  {
   "cell_type": "code",
   "execution_count": 68,
   "metadata": {},
   "outputs": [],
   "source": [
    "# Defining the parameters:\n",
    "j=1000 \n",
    "tauz=9 #tauz=[0,10]\n",
    "alphaz=1\n",
    "alphay=1"
   ]
  },
  {
   "cell_type": "code",
   "execution_count": 69,
   "metadata": {},
   "outputs": [],
   "source": [
    "# Defining the matrix Jz:\n",
    "Jz = np.zeros((2*j+1,2*j+1))\n",
    "m=-j\n",
    "for i in range(0,2*j+1):\n",
    "    Jz[i,i] = m\n",
    "    m+=1\n",
    "# Computing the matrix Jz^2:\n",
    "Jz2= np.dot(Jz,Jz)"
   ]
  },
  {
   "cell_type": "code",
   "execution_count": 70,
   "metadata": {},
   "outputs": [],
   "source": [
    "# Defining the matrix Jy:\n",
    "Jy = np.zeros((2*j+1, 2*j+1))\n",
    "m = -j\n",
    "for k in range(0,2*j):\n",
    "    if k<2*j:\n",
    "        Jy[k+1,k]=np.sqrt(j*(j+1)-m*(m+1))\n",
    "        Jy[k,k+1]=-np.sqrt(j*(j+1)-m*(m+1))\n",
    "        Jy[k-1,k]=-np.sqrt(j*(j+1)-m*(m-1))\n",
    "        Jy[k,k-1]=np.sqrt(j*(j+1)-m*(m-1))\n",
    "        m+=1"
   ]
  },
  {
   "cell_type": "code",
   "execution_count": 71,
   "metadata": {},
   "outputs": [],
   "source": [
    "# Defining the arguments of the exponentials in the Floquet operator:\n",
    "term1 = - ((tauz*Jz2)/(2*j+1))*complex(0,1)\n",
    "term2 = - (alphaz*Jz)*complex(0,1) \n",
    "term3 = - (alphay*Jy)/2"
   ]
  },
  {
   "cell_type": "code",
   "execution_count": 72,
   "metadata": {},
   "outputs": [],
   "source": [
    "# Computing the Floquet operator:\n",
    "F = np.dot(expm(term1+term2),expm(term3))"
   ]
  },
  {
   "cell_type": "code",
   "execution_count": 73,
   "metadata": {},
   "outputs": [],
   "source": [
    "# Obtaining the eigenvalues of the Floquet operator:\n",
    "Feigen = LA.eigvals(F)"
   ]
  },
  {
   "cell_type": "code",
   "execution_count": 74,
   "metadata": {},
   "outputs": [],
   "source": [
    "# Computing the phases \\phi obtained by making eigenvalue=e^{i\\phi}:\n",
    "phi = np.zeros((2*j+1), dtype=complex)\n",
    "for k in range(0,2*j+1):\n",
    "    phi[k] = np.angle(Feigen[k])"
   ]
  },
  {
   "cell_type": "code",
   "execution_count": 75,
   "metadata": {},
   "outputs": [],
   "source": [
    "# Ordering the phases \\phi from the smallest to the largest: \n",
    "phir=np.sort(np.real(phi))"
   ]
  },
  {
   "cell_type": "code",
   "execution_count": 76,
   "metadata": {},
   "outputs": [],
   "source": [
    "# Computing the difference between neighboring phases:\n",
    "dif = np.zeros((2*j+1))\n",
    "for i in range(0,2*j):\n",
    "    dif[i]=phir[i+1]-phir[i]"
   ]
  },
  {
   "cell_type": "code",
   "execution_count": 77,
   "metadata": {},
   "outputs": [],
   "source": [
    "# Normalizing the intervals between two consecutive phases:\n",
    "phirbar=(2*np.pi)/(2*j+1)"
   ]
  },
  {
   "cell_type": "code",
   "execution_count": 78,
   "metadata": {},
   "outputs": [],
   "source": [
    "# Defining this normalized difference:\n",
    "S = dif/phirbar"
   ]
  },
  {
   "cell_type": "code",
   "execution_count": 79,
   "metadata": {},
   "outputs": [
    {
     "data": {
      "image/png": "[encoded data removed]",
      "text/plain": [
       "<Figure size 432x288 with 1 Axes>"
      ]
     },
     "metadata": {},
     "output_type": "display_data"
    }
   ],
   "source": [
    "# Plotting the histogram of S:\n",
    "plt.hist(S, bins=100)\n",
    "plt.show()"
   ]
  },
  {
   "cell_type": "code",
   "execution_count": 80,
   "metadata": {},
   "outputs": [],
   "source": [
    "# Now we define two random matrices, one with all (random) elements and another with the (ramdom) elements in the diagonal only:\n",
    "n=2*j+1"
   ]
  },
  {
   "cell_type": "code",
   "execution_count": 81,
   "metadata": {},
   "outputs": [],
   "source": [
    "# phia are the phases related to the eigenvalues of the diagonal random matrix:\n",
    "phia = np.zeros((n))\n",
    "for i in range(0,n):\n",
    "    phia[i] = random.random()*np.pi*2 "
   ]
  },
  {
   "cell_type": "code",
   "execution_count": 82,
   "metadata": {},
   "outputs": [],
   "source": [
    "# Ordering the phases from the smallest to the largest:\n",
    "phiar=np.sort(np.real(phia))"
   ]
  },
  {
   "cell_type": "code",
   "execution_count": 83,
   "metadata": {},
   "outputs": [],
   "source": [
    "# Defining the difference between neighboring phases:\n",
    "difa = np.zeros((n-1))\n",
    "for i in range(0,n-1):\n",
    "    difa[i]=phiar[i+1]-phiar[i]"
   ]
  },
  {
   "cell_type": "code",
   "execution_count": 84,
   "metadata": {},
   "outputs": [],
   "source": [
    "# Defining the normalized differnce:\n",
    "Sa = difa/phirbar #phirbar=(2*np.pi)/(2*j+1)"
   ]
  },
  {
   "cell_type": "code",
   "execution_count": 85,
   "metadata": {},
   "outputs": [
    {
     "data": {
      "image/png": "[encoded data removed]",
      "text/plain": [
       "<Figure size 432x288 with 1 Axes>"
      ]
     },
     "metadata": {},
     "output_type": "display_data"
    }
   ],
   "source": [
    "# Plotting the histogram:\n",
    "plt.hist(Sa, bins=100)\n",
    "plt.show()"
   ]
  },
  {
   "cell_type": "code",
   "execution_count": 86,
   "metadata": {},
   "outputs": [],
   "source": [
    "# Random matrix (with all elements):\n",
    "Fb = unitary_group.rvs(n)"
   ]
  },
  {
   "cell_type": "code",
   "execution_count": 87,
   "metadata": {},
   "outputs": [],
   "source": [
    "# Taking O=FbFb^{t}\n",
    "O = np.dot(Fb,Fb.T)\n",
    "#confirm = O.T-O\n",
    "#print(confirm)"
   ]
  },
  {
   "cell_type": "code",
   "execution_count": 88,
   "metadata": {},
   "outputs": [],
   "source": [
    "# Diagonalizing:\n",
    "Odiag = np.zeros((n,n), dtype=complex)"
   ]
  },
  {
   "cell_type": "code",
   "execution_count": 89,
   "metadata": {},
   "outputs": [],
   "source": [
    "diag = LA.eigvals(O)\n",
    "\n",
    "for i in range(0,n):\n",
    "    Odiag[i,i]=diag[i]"
   ]
  },
  {
   "cell_type": "code",
   "execution_count": 90,
   "metadata": {},
   "outputs": [],
   "source": [
    "# Getting the phases:\n",
    "phib = np.zeros((n), dtype=complex)\n",
    "for k in range(0,n):\n",
    "    phib[k] = np.angle(Odiag[k,k])"
   ]
  },
  {
   "cell_type": "code",
   "execution_count": 91,
   "metadata": {},
   "outputs": [],
   "source": [
    "# Ordering the phases:\n",
    "phibr=np.sort(np.real(phib))"
   ]
  },
  {
   "cell_type": "code",
   "execution_count": 92,
   "metadata": {},
   "outputs": [],
   "source": [
    "#Defining the difference:\n",
    "difb = np.zeros((n-1))\n",
    "for i in range(0,n-1):\n",
    "    difb[i]=phibr[i+1]-phibr[i]"
   ]
  },
  {
   "cell_type": "code",
   "execution_count": 93,
   "metadata": {},
   "outputs": [],
   "source": [
    "# Normalizing the difference:\n",
    "Sb = difb/phirbar     #phirbar=(2*np.pi)/(2*j+1)"
   ]
  },
  {
   "cell_type": "code",
   "execution_count": 94,
   "metadata": {},
   "outputs": [
    {
     "data": {
      "image/png": "[encoded data removed]",
      "text/plain": [
       "<Figure size 432x288 with 1 Axes>"
      ]
     },
     "metadata": {},
     "output_type": "display_data"
    }
   ],
   "source": [
    "# Plotting the histogram:\n",
    "plt.hist(Sb, bins=100)\n",
    "plt.show()"
   ]
  },
  {
   "cell_type": "code",
   "execution_count": 95,
   "metadata": {},
   "outputs": [],
   "source": [
    "# Dfining the functions P1 and P2, which can be compared to the histograms obtained before:\n",
    "def P1(S):\n",
    "    return np.exp(-S)"
   ]
  },
  {
   "cell_type": "code",
   "execution_count": 96,
   "metadata": {},
   "outputs": [],
   "source": [
    "def P2(S):\n",
    "    return np.exp(- np.pi*S**2/4) * np.pi*S/2"
   ]
  },
  {
   "cell_type": "code",
   "execution_count": 97,
   "metadata": {
    "scrolled": true
   },
   "outputs": [
    {
     "data": {
      "image/png": "[encoded data removed]",
      "text/plain": [
       "<Figure size 432x288 with 1 Axes>"
      ]
     },
     "metadata": {},
     "output_type": "display_data"
    }
   ],
   "source": [
    "# Plotting the histograms and the functions together:\n",
    "plt.hist(Sb, bins=100, density=1)\n",
    "x = np.linspace(0,5,100) \n",
    "y = P2(x) \n",
    "pylab.plot(x,y) \n",
    "pylab.show() \n",
    "plt.show()"
   ]
  },
  {
   "cell_type": "code",
   "execution_count": 98,
   "metadata": {},
   "outputs": [
    {
     "data": {
      "image/png": "[encoded data removed]",
      "text/plain": [
       "<Figure size 432x288 with 1 Axes>"
      ]
     },
     "metadata": {},
     "output_type": "display_data"
    }
   ],
   "source": [
    "plt.hist(Sa, bins=100, density=1)\n",
    "x = np.linspace(0,5,100) \n",
    "y = P1(x) \n",
    "pylab.plot(x,y) \n",
    "pylab.show() \n",
    "plt.show()"
   ]
  },
  {
   "cell_type": "code",
   "execution_count": 99,
   "metadata": {},
   "outputs": [
    {
     "data": {
      "image/png": "[encoded data removed]",
      "text/plain": [
       "<Figure size 432x288 with 1 Axes>"
      ]
     },
     "metadata": {},
     "output_type": "display_data"
    }
   ],
   "source": [
    "plt.hist(S, bins=100, density=1)\n",
    "x = np.linspace(0,5,100) \n",
    "y = P2(x) \n",
    "pylab.plot(x,y) \n",
    "pylab.show() \n",
    "plt.show()"
   ]
  },
  {
   "cell_type": "code",
   "execution_count": null,
   "metadata": {},
   "outputs": [],
   "source": []
  },
  {
   "cell_type": "code",
   "execution_count": null,
   "metadata": {},
   "outputs": [],
   "source": []
  }
 ],
 "metadata": {
  "kernelspec": {
   "display_name": "Python 3",
   "language": "python",
   "name": "python3"
  },
  "language_info": {
   "codemirror_mode": {
    "name": "ipython",
    "version": 3
   },
   "file_extension": ".py",
   "mimetype": "text/x-python",
   "name": "python",
   "nbconvert_exporter": "python",
   "pygments_lexer": "ipython3",
   "version": "3.6.5"
  }
 },
 "nbformat": 4,
 "nbformat_minor": 2
}
